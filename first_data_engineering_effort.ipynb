{
  "nbformat": 4,
  "nbformat_minor": 0,
  "metadata": {
    "colab": {
      "provenance": [],
      "authorship_tag": "ABX9TyPc+0V7SQ6tgPCZuOjpo5BP",
      "include_colab_link": true
    },
    "kernelspec": {
      "name": "python3",
      "display_name": "Python 3"
    },
    "language_info": {
      "name": "python"
    }
  },
  "cells": [
    {
      "cell_type": "markdown",
      "metadata": {
        "id": "view-in-github",
        "colab_type": "text"
      },
      "source": [
        "<a href=\"https://colab.research.google.com/github/ldockx/my-first-data-engineering-project/blob/weather-api/first_data_engineering_effort.ipynb\" target=\"_parent\"><img src=\"https://colab.research.google.com/assets/colab-badge.svg\" alt=\"Open In Colab\"/></a>"
      ]
    },
    {
      "cell_type": "code",
      "source": [
        "import requests\n",
        "import pandas as pd\n",
        "from datetime import datetime\n",
        "\n",
        "# --- 1. Setup ---\n",
        "API_KEY = \"c726ffef4bc80d66ba1b86881e30dea3\"  # get a free one at https://openweathermap.org/api\n",
        "CITY = \"London\"\n",
        "URL = f\"http://api.openweathermap.org/data/2.5/weather?q={CITY}&appid={API_KEY}&units=metric\"\n",
        "\n",
        "# --- 2. Extract ---\n",
        "response = requests.get(URL)\n",
        "data = response.json()\n",
        "\n",
        "print(data)\n",
        "\n",
        "# --- 3. Transform ---\n",
        "# Flatten useful fields into a dict\n",
        "weather_dict = {\n",
        "    \"city\": data[\"name\"],\n",
        "    \"temperature_C\": data[\"main\"][\"temp\"],\n",
        "    \"feels_like_C\": data[\"main\"][\"feels_like\"],\n",
        "    \"humidity_%\": data[\"main\"][\"humidity\"],\n",
        "    \"weather\": data[\"weather\"][0][\"description\"],\n",
        "    \"wind_speed_mps\": data[\"wind\"][\"speed\"],\n",
        "    \"timestamp\": datetime.utcfromtimestamp(data[\"dt\"])\n",
        "}\n",
        "\n",
        "# Convert to DataFrame for analysis\n",
        "df = pd.DataFrame([weather_dict])\n",
        "\n",
        "# --- 4. Load (for now, just display) ---\n",
        "print(df)\n",
        "\n",
        "# Optionally save to CSV\n",
        "#df.to_csv(\"weather_data.csv\", index=False)\n"
      ],
      "metadata": {
        "id": "TTpBCfCtUq2a",
        "outputId": "048f3a6d-9724-41ce-deb0-435c1c549c1d",
        "colab": {
          "base_uri": "https://localhost:8080/",
          "height": 228
        }
      },
      "execution_count": 5,
      "outputs": [
        {
          "output_type": "stream",
          "name": "stdout",
          "text": [
            "{'cod': 401, 'message': 'Invalid API key. Please see https://openweathermap.org/faq#error401 for more info.'}\n"
          ]
        },
        {
          "output_type": "error",
          "ename": "KeyError",
          "evalue": "'name'",
          "traceback": [
            "\u001b[0;31m---------------------------------------------------------------------------\u001b[0m",
            "\u001b[0;31mKeyError\u001b[0m                                  Traceback (most recent call last)",
            "\u001b[0;32m/tmp/ipython-input-203604094.py\u001b[0m in \u001b[0;36m<cell line: 0>\u001b[0;34m()\u001b[0m\n\u001b[1;32m     17\u001b[0m \u001b[0;31m# Flatten useful fields into a dict\u001b[0m\u001b[0;34m\u001b[0m\u001b[0;34m\u001b[0m\u001b[0m\n\u001b[1;32m     18\u001b[0m weather_dict = {\n\u001b[0;32m---> 19\u001b[0;31m     \u001b[0;34m\"city\"\u001b[0m\u001b[0;34m:\u001b[0m \u001b[0mdata\u001b[0m\u001b[0;34m[\u001b[0m\u001b[0;34m\"name\"\u001b[0m\u001b[0;34m]\u001b[0m\u001b[0;34m,\u001b[0m\u001b[0;34m\u001b[0m\u001b[0;34m\u001b[0m\u001b[0m\n\u001b[0m\u001b[1;32m     20\u001b[0m     \u001b[0;34m\"temperature_C\"\u001b[0m\u001b[0;34m:\u001b[0m \u001b[0mdata\u001b[0m\u001b[0;34m[\u001b[0m\u001b[0;34m\"main\"\u001b[0m\u001b[0;34m]\u001b[0m\u001b[0;34m[\u001b[0m\u001b[0;34m\"temp\"\u001b[0m\u001b[0;34m]\u001b[0m\u001b[0;34m,\u001b[0m\u001b[0;34m\u001b[0m\u001b[0;34m\u001b[0m\u001b[0m\n\u001b[1;32m     21\u001b[0m     \u001b[0;34m\"feels_like_C\"\u001b[0m\u001b[0;34m:\u001b[0m \u001b[0mdata\u001b[0m\u001b[0;34m[\u001b[0m\u001b[0;34m\"main\"\u001b[0m\u001b[0;34m]\u001b[0m\u001b[0;34m[\u001b[0m\u001b[0;34m\"feels_like\"\u001b[0m\u001b[0;34m]\u001b[0m\u001b[0;34m,\u001b[0m\u001b[0;34m\u001b[0m\u001b[0;34m\u001b[0m\u001b[0m\n",
            "\u001b[0;31mKeyError\u001b[0m: 'name'"
          ]
        }
      ]
    }
  ]
}